{
 "cells": [
  {
   "cell_type": "markdown",
   "metadata": {},
   "source": [
    "# CS 1656 – Introduction to Data Science \n",
    "\n",
    "## Instructor: Xiaowei Jia\n",
    "### Teaching Assistants: Evangelos Karageorgos, Sonal Gupta\n",
    "\n",
    "\n",
    "## Term Project \n",
    "\n",
    "**Released: April 7, 2022**\n",
    "\n",
    "**Due: April 26, 2022**"
   ]
  },
  {
   "cell_type": "markdown",
   "metadata": {},
   "source": [
    "### Goal\n",
    "The goal of this project is to expose you with a real data science problem, looking at the end-to-end pipeline. \n",
    "\n",
    "### What to do \n",
    "You are asked to write a Python Jupyter notebook, called `bikes_pgh_data.ipynb` that will:\n",
    "* [Task 1] access historical bike rental data for 2021 from HealthyRidePGH and summarize the rental data  \n",
    "* [Task 2] create graphs to show the popularity of the different rental stations, given filter conditions  \n",
    "* [Task 3] cluster the data to group similar stations together, using a variety of clustering functions and visualize the results of the clustering.  \n",
    "\n",
    "**Your program should not take more than 15 minutes to run**\n",
    "\n",
    "### Jupyter Notebook Rules\n",
    "This skeleton is provided for you to complete the project. Please add your code in the code cells below each Task. Feel free to add cells as needed. Do not remove existing cells."
   ]
  },
  {
   "cell_type": "code",
   "execution_count": 14,
   "metadata": {
    "collapsed": true
   },
   "outputs": [],
   "source": [
    "%matplotlib inline\n",
    "import matplotlib.pyplot as plt\n",
    "import pandas as pd\n",
    "import glob \n",
    "import math\n",
    "import numpy as np\n",
    "# Feel free to add \n",
    "# Feel free to add here any other libraries as specified in the project description"
   ]
  },
  {
   "cell_type": "markdown",
   "metadata": {},
   "source": [
    "For the sake of interactive display in Jupyter, we will enable matplotlib inline."
   ]
  },
  {
   "cell_type": "code",
   "execution_count": 15,
   "metadata": {
    "collapsed": true
   },
   "outputs": [],
   "source": [
    "%matplotlib inline"
   ]
  },
  {
   "cell_type": "markdown",
   "metadata": {},
   "source": [
    "### [Task 0] Warming Up\n",
    "Task 0 is for testing. It is used to ensure that this Jupyter Notebook skeleton works on both your machines and our machine. Please run the following code to see if you can see a line plot. The line plot is the basic plot that we have seen in Recitation2. "
   ]
  },
  {
   "cell_type": "code",
   "execution_count": 16,
   "metadata": {
    "scrolled": true
   },
   "outputs": [
    {
     "data": {
      "image/png": "[encoded data removed]",
      "text/plain": [
       "<Figure size 432x288 with 1 Axes>"
      ]
     },
     "metadata": {
      "needs_background": "light"
     },
     "output_type": "display_data"
    }
   ],
   "source": [
    "import datetime\n",
    "from pandas.plotting import register_matplotlib_converters\n",
    "register_matplotlib_converters()\n",
    "df = pd.read_csv('KPIT_Aug17.csv', sep=',', engine='python', parse_dates=['EST'])\n",
    "p1 = plt.plot(df['EST'],df['MeanDew PointF'])\n",
    "p2 = plt.plot(df['EST'],df['Mean TemperatureF'])\n",
    "plt.legend([p1[0],p2[0]], ['Mean Dew Point', 'Mean Temperature'])\n",
    "\n",
    "plt.show()\n",
    "\n"
   ]
  },
  {
   "cell_type": "markdown",
   "metadata": {},
   "source": [
    "--- \n",
    "Add your code below this line\n",
    "\n",
    "---\n",
    "### Task 1"
   ]
  },
  {
   "cell_type": "markdown",
   "metadata": {},
   "source": [
    "In this task you will need to access historical bike rental data for 2021 from HealthyRidePGH and summarize the rental data."
   ]
  },
  {
   "cell_type": "markdown",
   "metadata": {},
   "source": [
    "### Task 1.1"
   ]
  },
  {
   "cell_type": "code",
   "execution_count": 18,
   "metadata": {},
   "outputs": [],
   "source": [
    "def calcrebal(curr):\n",
    "    row = curr.name\n",
    "    if row != 0: \n",
    "        prev = rebal.iloc[row-1]\n",
    "        if curr['From station id'] != 0 and prev['To station id'] != 0 and curr['Bikeid'] == prev['Bikeid'] and curr['From station id'] != prev['To station id']:\n",
    "            return 1\n",
    "\n",
    "    return 0\n"
   ]
  },
  {
   "cell_type": "code",
   "execution_count": 19,
   "metadata": {
    "collapsed": true
   },
   "outputs": [
    {
     "name": "stdout",
     "output_type": "stream",
     "text": [
      "CPU times: total: 9.95 s\n",
      "Wall time: 10.4 s\n"
     ]
    },
    {
     "data": {
      "text/html": [
       "<div>\n",
       "<style scoped>\n",
       "    .dataframe tbody tr th:only-of-type {\n",
       "        vertical-align: middle;\n",
       "    }\n",
       "\n",
       "    .dataframe tbody tr th {\n",
       "        vertical-align: top;\n",
       "    }\n",
       "\n",
       "    .dataframe thead th {\n",
       "        text-align: right;\n",
       "    }\n",
       "</style>\n",
       "<table border=\"1\" class=\"dataframe\">\n",
       "  <thead>\n",
       "    <tr style=\"text-align: right;\">\n",
       "      <th></th>\n",
       "      <th>Day</th>\n",
       "      <th>StationID</th>\n",
       "      <th>fromCNT</th>\n",
       "      <th>toCNT</th>\n",
       "      <th>rebalCNT</th>\n",
       "    </tr>\n",
       "  </thead>\n",
       "  <tbody>\n",
       "    <tr>\n",
       "      <th>0</th>\n",
       "      <td>2021-01-01</td>\n",
       "      <td>1002.0</td>\n",
       "      <td>1.0</td>\n",
       "      <td>1.0</td>\n",
       "      <td>0.0</td>\n",
       "    </tr>\n",
       "    <tr>\n",
       "      <th>1</th>\n",
       "      <td>2021-01-01</td>\n",
       "      <td>1010.0</td>\n",
       "      <td>1.0</td>\n",
       "      <td>0.0</td>\n",
       "      <td>0.0</td>\n",
       "    </tr>\n",
       "    <tr>\n",
       "      <th>2</th>\n",
       "      <td>2021-01-01</td>\n",
       "      <td>1017.0</td>\n",
       "      <td>0.0</td>\n",
       "      <td>2.0</td>\n",
       "      <td>0.0</td>\n",
       "    </tr>\n",
       "    <tr>\n",
       "      <th>3</th>\n",
       "      <td>2021-01-01</td>\n",
       "      <td>1024.0</td>\n",
       "      <td>1.0</td>\n",
       "      <td>1.0</td>\n",
       "      <td>0.0</td>\n",
       "    </tr>\n",
       "    <tr>\n",
       "      <th>4</th>\n",
       "      <td>2021-01-01</td>\n",
       "      <td>1028.0</td>\n",
       "      <td>1.0</td>\n",
       "      <td>1.0</td>\n",
       "      <td>0.0</td>\n",
       "    </tr>\n",
       "    <tr>\n",
       "      <th>5</th>\n",
       "      <td>2021-01-01</td>\n",
       "      <td>1032.0</td>\n",
       "      <td>1.0</td>\n",
       "      <td>0.0</td>\n",
       "      <td>0.0</td>\n",
       "    </tr>\n",
       "    <tr>\n",
       "      <th>6</th>\n",
       "      <td>2021-01-01</td>\n",
       "      <td>1039.0</td>\n",
       "      <td>0.0</td>\n",
       "      <td>1.0</td>\n",
       "      <td>0.0</td>\n",
       "    </tr>\n",
       "    <tr>\n",
       "      <th>7</th>\n",
       "      <td>2021-01-01</td>\n",
       "      <td>1059.0</td>\n",
       "      <td>1.0</td>\n",
       "      <td>1.0</td>\n",
       "      <td>0.0</td>\n",
       "    </tr>\n",
       "    <tr>\n",
       "      <th>8</th>\n",
       "      <td>2021-01-01</td>\n",
       "      <td>1062.0</td>\n",
       "      <td>2.0</td>\n",
       "      <td>2.0</td>\n",
       "      <td>0.0</td>\n",
       "    </tr>\n",
       "    <tr>\n",
       "      <th>9</th>\n",
       "      <td>2021-01-01</td>\n",
       "      <td>1094.0</td>\n",
       "      <td>2.0</td>\n",
       "      <td>0.0</td>\n",
       "      <td>0.0</td>\n",
       "    </tr>\n",
       "    <tr>\n",
       "      <th>10</th>\n",
       "      <td>2021-01-01</td>\n",
       "      <td>49301.0</td>\n",
       "      <td>1.0</td>\n",
       "      <td>2.0</td>\n",
       "      <td>0.0</td>\n",
       "    </tr>\n",
       "    <tr>\n",
       "      <th>11</th>\n",
       "      <td>2021-01-01</td>\n",
       "      <td>49641.0</td>\n",
       "      <td>0.0</td>\n",
       "      <td>1.0</td>\n",
       "      <td>0.0</td>\n",
       "    </tr>\n",
       "    <tr>\n",
       "      <th>12</th>\n",
       "      <td>2021-01-01</td>\n",
       "      <td>49671.0</td>\n",
       "      <td>1.0</td>\n",
       "      <td>0.0</td>\n",
       "      <td>0.0</td>\n",
       "    </tr>\n",
       "    <tr>\n",
       "      <th>13</th>\n",
       "      <td>2021-01-01</td>\n",
       "      <td>49951.0</td>\n",
       "      <td>1.0</td>\n",
       "      <td>0.0</td>\n",
       "      <td>0.0</td>\n",
       "    </tr>\n",
       "    <tr>\n",
       "      <th>14</th>\n",
       "      <td>2021-01-02</td>\n",
       "      <td>1000.0</td>\n",
       "      <td>1.0</td>\n",
       "      <td>0.0</td>\n",
       "      <td>0.0</td>\n",
       "    </tr>\n",
       "    <tr>\n",
       "      <th>15</th>\n",
       "      <td>2021-01-02</td>\n",
       "      <td>1001.0</td>\n",
       "      <td>2.0</td>\n",
       "      <td>3.0</td>\n",
       "      <td>0.0</td>\n",
       "    </tr>\n",
       "    <tr>\n",
       "      <th>16</th>\n",
       "      <td>2021-01-02</td>\n",
       "      <td>1002.0</td>\n",
       "      <td>3.0</td>\n",
       "      <td>1.0</td>\n",
       "      <td>0.0</td>\n",
       "    </tr>\n",
       "    <tr>\n",
       "      <th>17</th>\n",
       "      <td>2021-01-02</td>\n",
       "      <td>1003.0</td>\n",
       "      <td>2.0</td>\n",
       "      <td>0.0</td>\n",
       "      <td>0.0</td>\n",
       "    </tr>\n",
       "    <tr>\n",
       "      <th>18</th>\n",
       "      <td>2021-01-02</td>\n",
       "      <td>1010.0</td>\n",
       "      <td>1.0</td>\n",
       "      <td>2.0</td>\n",
       "      <td>0.0</td>\n",
       "    </tr>\n",
       "    <tr>\n",
       "      <th>19</th>\n",
       "      <td>2021-01-02</td>\n",
       "      <td>1012.0</td>\n",
       "      <td>14.0</td>\n",
       "      <td>15.0</td>\n",
       "      <td>0.0</td>\n",
       "    </tr>\n",
       "  </tbody>\n",
       "</table>\n",
       "</div>"
      ],
      "text/plain": [
       "           Day  StationID  fromCNT  toCNT  rebalCNT\n",
       "0   2021-01-01     1002.0      1.0    1.0       0.0\n",
       "1   2021-01-01     1010.0      1.0    0.0       0.0\n",
       "2   2021-01-01     1017.0      0.0    2.0       0.0\n",
       "3   2021-01-01     1024.0      1.0    1.0       0.0\n",
       "4   2021-01-01     1028.0      1.0    1.0       0.0\n",
       "5   2021-01-01     1032.0      1.0    0.0       0.0\n",
       "6   2021-01-01     1039.0      0.0    1.0       0.0\n",
       "7   2021-01-01     1059.0      1.0    1.0       0.0\n",
       "8   2021-01-01     1062.0      2.0    2.0       0.0\n",
       "9   2021-01-01     1094.0      2.0    0.0       0.0\n",
       "10  2021-01-01    49301.0      1.0    2.0       0.0\n",
       "11  2021-01-01    49641.0      0.0    1.0       0.0\n",
       "12  2021-01-01    49671.0      1.0    0.0       0.0\n",
       "13  2021-01-01    49951.0      1.0    0.0       0.0\n",
       "14  2021-01-02     1000.0      1.0    0.0       0.0\n",
       "15  2021-01-02     1001.0      2.0    3.0       0.0\n",
       "16  2021-01-02     1002.0      3.0    1.0       0.0\n",
       "17  2021-01-02     1003.0      2.0    0.0       0.0\n",
       "18  2021-01-02     1010.0      1.0    2.0       0.0\n",
       "19  2021-01-02     1012.0     14.0   15.0       0.0"
      ]
     },
     "execution_count": 19,
     "metadata": {},
     "output_type": "execute_result"
    }
   ],
   "source": [
    "%%time\n",
    "\n",
    "'''\n",
    "DAY | Station ID | fromCNT | toCNT | rebalCNT      \n",
    "'''\n",
    "\n",
    "df = pd.concat([pd.read_csv(f) for f in glob.glob('HealthyRideRentals2021-*.csv')], ignore_index = True)\n",
    "\n",
    "rebal = df[['Trip id', 'Starttime', 'Bikeid', 'From station id', 'To station id']].copy()\n",
    "rebal['Startdate'] = pd.to_datetime(rebal['Starttime']).dt.date\n",
    "rebal = rebal.sort_values(by=['Bikeid', 'Startdate'])\n",
    "rebal = rebal[rebal.groupby(['Bikeid'])['Bikeid'].transform('size') > 1]\n",
    "rebal = rebal.reset_index(drop=True)\n",
    "rebal['Rebal'] = rebal.apply(calcrebal, axis=1)\n",
    "\n",
    "fs = rebal[['Startdate', 'Bikeid', 'From station id']].copy()\n",
    "fs = fs[fs.groupby(['Bikeid'])['Bikeid'].transform('size') > 1]\n",
    "fs = fs.reset_index(drop=True)\n",
    "\n",
    "tos = rebal[['Startdate', 'Bikeid', 'To station id']].copy()\n",
    "tos = tos[tos.groupby(['Bikeid'])['Bikeid'].transform('size') > 1]\n",
    "tos = tos.reset_index(drop=True)\n",
    "\n",
    "rebalCNT_p = pd.pivot_table(rebal,index=['Startdate', 'From station id'], values=['Rebal'], aggfunc='sum')\n",
    "rebalCNT = rebalCNT_p.reset_index()\n",
    "rebalCNT.columns = ['Day', 'StationID', 'rebalCNT']\n",
    "\n",
    "fromCNT_p = pd.pivot_table(fs,index=['Startdate', 'From station id'], values=['From station id'],aggfunc=lambda x: len(x))\n",
    "fromCNT = fromCNT_p.reset_index()\n",
    "fromCNT.columns = ['Day', 'StationID', 'fromCNT']\n",
    "toCNT_p = pd.pivot_table(tos,index=['Startdate', 'To station id'], values=['To station id'],aggfunc=lambda x: len(x))\n",
    "toCNT = toCNT_p.reset_index()\n",
    "toCNT.columns = ['Day', 'StationID', 'toCNT']\n",
    "\n",
    "rebalCNT = rebalCNT.sort_values(by=['Day', 'StationID'])\n",
    "fromCNT = fromCNT.sort_values(by=['Day', 'StationID'])\n",
    "toCNT = toCNT.sort_values(by=['Day', 'StationID'])\n",
    "\n",
    "fromto = fromCNT.merge(toCNT, how='outer', on=['Day', 'StationID'])\n",
    "fromto = fromto.fillna(0)\n",
    "fromto = fromto.sort_values(by=['Day', 'StationID'])\n",
    "\n",
    "df_final = pd.merge(fromto, rebalCNT, how='outer', on=['Day', 'StationID'])\n",
    "df_final = df_final.fillna(0)\n",
    "\n",
    "df_final.head(20)\n"
   ]
  },
  {
   "cell_type": "markdown",
   "metadata": {},
   "source": [
    "### Task 1.2"
   ]
  },
  {
   "cell_type": "code",
   "execution_count": 21,
   "metadata": {
    "collapsed": true
   },
   "outputs": [
    {
     "data": {
      "text/html": [
       "<div>\n",
       "<style scoped>\n",
       "    .dataframe tbody tr th:only-of-type {\n",
       "        vertical-align: middle;\n",
       "    }\n",
       "\n",
       "    .dataframe tbody tr th {\n",
       "        vertical-align: top;\n",
       "    }\n",
       "\n",
       "    .dataframe thead th {\n",
       "        text-align: right;\n",
       "    }\n",
       "</style>\n",
       "<table border=\"1\" class=\"dataframe\">\n",
       "  <thead>\n",
       "    <tr style=\"text-align: right;\">\n",
       "      <th></th>\n",
       "      <th>Month</th>\n",
       "      <th>StationID</th>\n",
       "      <th>fromCNT</th>\n",
       "      <th>toCNT</th>\n",
       "      <th>rebalCNT</th>\n",
       "    </tr>\n",
       "  </thead>\n",
       "  <tbody>\n",
       "    <tr>\n",
       "      <th>0</th>\n",
       "      <td>1</td>\n",
       "      <td>1000.0</td>\n",
       "      <td>23.0</td>\n",
       "      <td>29.0</td>\n",
       "      <td>2.0</td>\n",
       "    </tr>\n",
       "    <tr>\n",
       "      <th>1</th>\n",
       "      <td>1</td>\n",
       "      <td>1001.0</td>\n",
       "      <td>18.0</td>\n",
       "      <td>27.0</td>\n",
       "      <td>0.0</td>\n",
       "    </tr>\n",
       "    <tr>\n",
       "      <th>2</th>\n",
       "      <td>1</td>\n",
       "      <td>1002.0</td>\n",
       "      <td>27.0</td>\n",
       "      <td>27.0</td>\n",
       "      <td>3.0</td>\n",
       "    </tr>\n",
       "    <tr>\n",
       "      <th>3</th>\n",
       "      <td>1</td>\n",
       "      <td>1003.0</td>\n",
       "      <td>2.0</td>\n",
       "      <td>1.0</td>\n",
       "      <td>0.0</td>\n",
       "    </tr>\n",
       "    <tr>\n",
       "      <th>4</th>\n",
       "      <td>1</td>\n",
       "      <td>1004.0</td>\n",
       "      <td>20.0</td>\n",
       "      <td>16.0</td>\n",
       "      <td>3.0</td>\n",
       "    </tr>\n",
       "    <tr>\n",
       "      <th>5</th>\n",
       "      <td>1</td>\n",
       "      <td>1005.0</td>\n",
       "      <td>6.0</td>\n",
       "      <td>3.0</td>\n",
       "      <td>0.0</td>\n",
       "    </tr>\n",
       "    <tr>\n",
       "      <th>6</th>\n",
       "      <td>1</td>\n",
       "      <td>1006.0</td>\n",
       "      <td>8.0</td>\n",
       "      <td>8.0</td>\n",
       "      <td>1.0</td>\n",
       "    </tr>\n",
       "    <tr>\n",
       "      <th>7</th>\n",
       "      <td>1</td>\n",
       "      <td>1007.0</td>\n",
       "      <td>9.0</td>\n",
       "      <td>7.0</td>\n",
       "      <td>1.0</td>\n",
       "    </tr>\n",
       "    <tr>\n",
       "      <th>8</th>\n",
       "      <td>1</td>\n",
       "      <td>1009.0</td>\n",
       "      <td>8.0</td>\n",
       "      <td>3.0</td>\n",
       "      <td>0.0</td>\n",
       "    </tr>\n",
       "    <tr>\n",
       "      <th>9</th>\n",
       "      <td>1</td>\n",
       "      <td>1010.0</td>\n",
       "      <td>47.0</td>\n",
       "      <td>30.0</td>\n",
       "      <td>13.0</td>\n",
       "    </tr>\n",
       "    <tr>\n",
       "      <th>10</th>\n",
       "      <td>1</td>\n",
       "      <td>1011.0</td>\n",
       "      <td>7.0</td>\n",
       "      <td>17.0</td>\n",
       "      <td>0.0</td>\n",
       "    </tr>\n",
       "    <tr>\n",
       "      <th>11</th>\n",
       "      <td>1</td>\n",
       "      <td>1012.0</td>\n",
       "      <td>50.0</td>\n",
       "      <td>52.0</td>\n",
       "      <td>2.0</td>\n",
       "    </tr>\n",
       "    <tr>\n",
       "      <th>12</th>\n",
       "      <td>1</td>\n",
       "      <td>1013.0</td>\n",
       "      <td>26.0</td>\n",
       "      <td>24.0</td>\n",
       "      <td>7.0</td>\n",
       "    </tr>\n",
       "    <tr>\n",
       "      <th>13</th>\n",
       "      <td>1</td>\n",
       "      <td>1014.0</td>\n",
       "      <td>5.0</td>\n",
       "      <td>2.0</td>\n",
       "      <td>2.0</td>\n",
       "    </tr>\n",
       "    <tr>\n",
       "      <th>14</th>\n",
       "      <td>1</td>\n",
       "      <td>1015.0</td>\n",
       "      <td>16.0</td>\n",
       "      <td>16.0</td>\n",
       "      <td>2.0</td>\n",
       "    </tr>\n",
       "    <tr>\n",
       "      <th>15</th>\n",
       "      <td>1</td>\n",
       "      <td>1016.0</td>\n",
       "      <td>21.0</td>\n",
       "      <td>28.0</td>\n",
       "      <td>0.0</td>\n",
       "    </tr>\n",
       "    <tr>\n",
       "      <th>16</th>\n",
       "      <td>1</td>\n",
       "      <td>1017.0</td>\n",
       "      <td>61.0</td>\n",
       "      <td>70.0</td>\n",
       "      <td>0.0</td>\n",
       "    </tr>\n",
       "    <tr>\n",
       "      <th>17</th>\n",
       "      <td>1</td>\n",
       "      <td>1018.0</td>\n",
       "      <td>12.0</td>\n",
       "      <td>18.0</td>\n",
       "      <td>0.0</td>\n",
       "    </tr>\n",
       "    <tr>\n",
       "      <th>18</th>\n",
       "      <td>1</td>\n",
       "      <td>1019.0</td>\n",
       "      <td>18.0</td>\n",
       "      <td>34.0</td>\n",
       "      <td>0.0</td>\n",
       "    </tr>\n",
       "    <tr>\n",
       "      <th>19</th>\n",
       "      <td>1</td>\n",
       "      <td>1020.0</td>\n",
       "      <td>5.0</td>\n",
       "      <td>5.0</td>\n",
       "      <td>0.0</td>\n",
       "    </tr>\n",
       "  </tbody>\n",
       "</table>\n",
       "</div>"
      ],
      "text/plain": [
       "    Month  StationID  fromCNT  toCNT  rebalCNT\n",
       "0       1     1000.0     23.0   29.0       2.0\n",
       "1       1     1001.0     18.0   27.0       0.0\n",
       "2       1     1002.0     27.0   27.0       3.0\n",
       "3       1     1003.0      2.0    1.0       0.0\n",
       "4       1     1004.0     20.0   16.0       3.0\n",
       "5       1     1005.0      6.0    3.0       0.0\n",
       "6       1     1006.0      8.0    8.0       1.0\n",
       "7       1     1007.0      9.0    7.0       1.0\n",
       "8       1     1009.0      8.0    3.0       0.0\n",
       "9       1     1010.0     47.0   30.0      13.0\n",
       "10      1     1011.0      7.0   17.0       0.0\n",
       "11      1     1012.0     50.0   52.0       2.0\n",
       "12      1     1013.0     26.0   24.0       7.0\n",
       "13      1     1014.0      5.0    2.0       2.0\n",
       "14      1     1015.0     16.0   16.0       2.0\n",
       "15      1     1016.0     21.0   28.0       0.0\n",
       "16      1     1017.0     61.0   70.0       0.0\n",
       "17      1     1018.0     12.0   18.0       0.0\n",
       "18      1     1019.0     18.0   34.0       0.0\n",
       "19      1     1020.0      5.0    5.0       0.0"
      ]
     },
     "execution_count": 21,
     "metadata": {},
     "output_type": "execute_result"
    }
   ],
   "source": [
    "rebal = df[['Trip id', 'Starttime', 'Bikeid', 'From station id', 'To station id']].copy()\n",
    "rebal['Startdate'] = pd.to_datetime(rebal['Starttime']).dt.month\n",
    "rebal = rebal.sort_values(by=['Bikeid', 'Startdate'])\n",
    "rebal = rebal[rebal.groupby(['Bikeid'])['Bikeid'].transform('size') > 1]\n",
    "rebal = rebal.reset_index(drop=True)\n",
    "rebal['Rebal'] = rebal.apply(calcrebal, axis=1)\n",
    "\n",
    "rebalCNT_p = pd.pivot_table(rebal,index=['Startdate', 'From station id'], values=['Rebal'], aggfunc='sum')\n",
    "rebalCNT = rebalCNT_p.reset_index()\n",
    "rebalCNT.columns = ['Month', 'StationID', 'rebalCNT']\n",
    "\n",
    "fs = rebal[['Startdate', 'Bikeid', 'From station id']].copy()\n",
    "fs = fs[fs.groupby(['Bikeid'])['Bikeid'].transform('size') > 1]\n",
    "fs = fs.reset_index(drop=True)\n",
    "\n",
    "fromCNT_p = pd.pivot_table(fs,index=['Startdate', 'From station id'], values=['From station id'],aggfunc=lambda x: len(x))\n",
    "fromCNT = fromCNT_p.reset_index()\n",
    "fromCNT.columns = ['Month', 'StationID', 'fromCNT']\n",
    "\n",
    "tos = rebal[['Startdate', 'Bikeid', 'To station id']].copy()\n",
    "tos = tos[tos.groupby(['Bikeid'])['Bikeid'].transform('size') > 1]\n",
    "tos = tos.reset_index(drop=True)\n",
    "toCNT_p = pd.pivot_table(tos,index=['Startdate', 'To station id'], values=['To station id'],aggfunc=lambda x: len(x))\n",
    "toCNT = toCNT_p.reset_index()\n",
    "toCNT.columns = ['Month', 'StationID', 'toCNT']\n",
    "\n",
    "fromto = pd.merge(fromCNT, toCNT, how='right', on=['Month', 'StationID'])\n",
    "fromto = fromto.sort_values(by=['Month', 'StationID'])\n",
    "df_final_m = pd.merge(fromto, rebalCNT, how='outer', on=['Month', 'StationID'])\n",
    "df_final_m = df_final_m.fillna(0)\n",
    "\n",
    "df_final_m.head(20)"
   ]
  },
  {
   "cell_type": "markdown",
   "metadata": {},
   "source": [
    "---\n",
    "### Task 2"
   ]
  },
  {
   "cell_type": "markdown",
   "metadata": {},
   "source": [
    "In this task you will need to create graphs to show the popularity of the different rental stations, given filter conditions."
   ]
  },
  {
   "cell_type": "code",
   "execution_count": 23,
   "metadata": {
    "collapsed": true
   },
   "outputs": [],
   "source": [
    "# FILTER VARIABLES -- feel free to edit the values, but the names of the variables must remain \n",
    "#                     as they are and should be used by your code accordingly from this point on\n",
    "\n",
    "filter_month = 4\n",
    "filter_stationID = 1046\n"
   ]
  },
  {
   "cell_type": "markdown",
   "metadata": {},
   "source": [
    "### Task 2.1"
   ]
  },
  {
   "cell_type": "code",
   "execution_count": 31,
   "metadata": {
    "collapsed": true
   },
   "outputs": [
    {
     "data": {
      "image/png": "[encoded data removed]",
      "text/plain": [
       "<Figure size 1152x432 with 1 Axes>"
      ]
     },
     "metadata": {
      "needs_background": "light"
     },
     "output_type": "display_data"
    }
   ],
   "source": [
    "#  bar chart for the 20 most popular bikestations when considering the number of **fromCNT** per station monthly\n",
    "\n",
    "df_2_1 = df_final_m.loc[df_final_m['Month'] == filter_month]\n",
    "df_2_1 = df_2_1[['Month', 'StationID', 'fromCNT']]\n",
    "df_2_1 = df_2_1.sort_values(by=['fromCNT'], ascending=False)\n",
    "df_2_1 = df_2_1.head(20)\n",
    "df_2_1 = df_2_1.drop(['Month'], axis=1)\n",
    "df_2_1[\"StationID\"] = df_21[\"StationID\"].astype(str)\n",
    "\n",
    "title = 'Month ' + str(filter_month) + \": 20 most popular bike stations fromCNT by station ID\"\n",
    "task21 = df_2_1.plot(x = 'StationID', y='fromCNT', kind='bar', rot=90, figsize=(16, 6), title=title)\n",
    "plt.show()"
   ]
  },
  {
   "cell_type": "markdown",
   "metadata": {},
   "source": [
    "### Task 2.2"
   ]
  },
  {
   "cell_type": "code",
   "execution_count": 33,
   "metadata": {
    "collapsed": true
   },
   "outputs": [
    {
     "data": {
      "image/png": "[encoded data removed]",
      "text/plain": [
       "<Figure size 1152x432 with 1 Axes>"
      ]
     },
     "metadata": {
      "needs_background": "light"
     },
     "output_type": "display_data"
    }
   ],
   "source": [
    "df_2_2 = df[['Starttime','From station id']].copy()\n",
    "df_2_2 = df_2_2.copy()\n",
    "df_2_2.columns = ['Date','Station ID']\n",
    "df_2_2['Month'] = pd.to_datetime(df_2_2['Date']).dt.month\n",
    "df_2_2 = df_2_2.loc[df_2_2['Month'] == filter_month]\n",
    "df_2_2 = df_2_2.drop(['Month'], axis=1)\n",
    "df_2_2['Date'] = pd.to_datetime(df_2_2['Date']).dt.day\n",
    "df_2_2 = df_2_2.sort_values('Date')\n",
    "df_2_2 = df_2_2.loc[df_2_2['Station ID'] == filter_stationID]\n",
    "df_2_2 = df_2_2['Date'].groupby([df_2_2['Date']]).count()\n",
    "\n",
    "days_of_month = {1:31, 2:28, 3:31, 4:30, 5:31, 6:30, 7:31, 8:31, 9:30, 10:31, 11:30, 12:31}\n",
    "\n",
    "keys = df_2_2.keys()\n",
    "counts = df_2_2.tolist()\n",
    "\n",
    "for i in range(1, days_of_month[filter_month] + 1):\n",
    "    if i not in keys:\n",
    "        keys = keys.insert(i - 1, i)\n",
    "        counts.insert(i - 1, 0)\n",
    "\n",
    "df_2_2 = pd.DataFrame({'Date':keys, 'Count':counts})\n",
    "ti = 'Station' + str(filter_stationID) + ' Month ' + str(filter_month) + ': distribution of bike rentals'\n",
    "ax = df_2_2.plot.bar(x='Date', y='Count', rot=0, title=ti, figsize=(16,6))\n"
   ]
  },
  {
   "cell_type": "markdown",
   "metadata": {},
   "source": [
    "### Task 2.3"
   ]
  },
  {
   "cell_type": "code",
   "execution_count": 35,
   "metadata": {
    "collapsed": true
   },
   "outputs": [
    {
     "data": {
      "image/png": "[encoded data removed]",
      "text/plain": [
       "<Figure size 1152x432 with 1 Axes>"
      ]
     },
     "metadata": {
      "needs_background": "light"
     },
     "output_type": "display_data"
    }
   ],
   "source": [
    "\n",
    "rebal = df[['Trip id', 'Starttime', 'Bikeid', 'From station id', 'To station id']].copy()\n",
    "fs = rebal[['Starttime', 'Bikeid', 'From station id']].copy()\n",
    "fs = fs[fs.groupby(['Bikeid'])['Bikeid'].transform('size') > 1]\n",
    "fs = fs.reset_index(drop=True)\n",
    "\n",
    "fromCNT_p = pd.pivot_table(fs,index=['Starttime', 'From station id'], values=['From station id'],aggfunc=lambda x: len(x))\n",
    "fromCNT = fromCNT_p.reset_index()\n",
    "fromCNT.columns = ['Day', 'StationID', 'fromCNT']\n",
    "\n",
    "fromCNT['Month'] = pd.to_datetime(fromCNT['Day']).dt.month\n",
    "fromCNT = fromCNT.loc[fromCNT['Month'] == filter_month]\n",
    "fromCNT = fromCNT.drop(['Month'], axis=1)\n",
    "fromCNT = fromCNT.drop(['StationID'], axis=1)\n",
    "fromCNT['Hour'] = pd.to_datetime(fromCNT['Day']).dt.hour\n",
    "fromCNT = fromCNT.drop(['Day'], axis=1)\n",
    "fromCNT = fromCNT.sort_values(by='Hour')\n",
    "\n",
    "task = fromCNT.groupby(\"Hour\").sum().reset_index()\n",
    "\n",
    "title = 'Month ' + str(filter_month) + ': fromCNT throughout each day'\n",
    "output = task.plot(x = 'Hour', y='fromCNT', kind='bar', rot=90, figsize=(16, 6), title=title)\n",
    "plt.show()"
   ]
  },
  {
   "cell_type": "markdown",
   "metadata": {},
   "source": [
    "### Task 2.4"
   ]
  },
  {
   "cell_type": "code",
   "execution_count": 37,
   "metadata": {
    "collapsed": true
   },
   "outputs": [
    {
     "data": {
      "image/png": "[encoded data removed]",
      "text/plain": [
       "<Figure size 1152x432 with 1 Axes>"
      ]
     },
     "metadata": {
      "needs_background": "light"
     },
     "output_type": "display_data"
    }
   ],
   "source": [
    "\n",
    "bike_count = df[['Starttime','Bikeid']].copy()\n",
    "bike_count = bike_count.copy()\n",
    "\n",
    "bike_count.columns = ['Date','Bikeid']\n",
    "bike_count['Date'] = pd.to_datetime(bike_count['Date']).dt.month\n",
    "\n",
    "bike_count = bike_count.loc[bike_count['Date'] == filter_month]\n",
    "bike_count = bike_count.groupby(['Bikeid'])['Bikeid'].count()\n",
    "bike_count = bike_count.sort_values(ascending=False)\n",
    "\n",
    "keys = bike_count.keys()\n",
    "counts = bike_count.tolist()\n",
    "\n",
    "df_2_4 = pd.DataFrame({'Bikeid':keys[0:24], 'count':counts[0:24]})\n",
    "df_2_4[\"Bikeid\"] = df_2_4[\"Bikeid\"].astype(str)\n",
    "title = 'Month ' + str(filter_month) + \": 20 most popular bikes by rental count\"\n",
    "ax = df_2_4.plot.bar(x='Bikeid', y='count', title=title, figsize=(16,6))"
   ]
  },
  {
   "cell_type": "markdown",
   "metadata": {},
   "source": [
    "---\n",
    "### Task 3"
   ]
  },
  {
   "cell_type": "markdown",
   "metadata": {},
   "source": [
    "In this task you will cluster the data to group similar stations together, using a variety of clustering functions and visualize the results of the clustering."
   ]
  },
  {
   "cell_type": "markdown",
   "metadata": {},
   "source": [
    "### Task 3.1"
   ]
  },
  {
   "cell_type": "code",
   "execution_count": 45,
   "metadata": {},
   "outputs": [],
   "source": [
    "\n",
    "from sklearn.cluster import KMeans, DBSCAN\n",
    "\n",
    "df = pd.read_csv('HealthyRideRentals2021-Q2.csv')\n",
    "\n",
    "\n",
    "rebal = df[['Trip id', 'Starttime', 'Bikeid', 'From station id', 'To station id']].copy()\n",
    "rebal['Startdate'] = pd.to_datetime(rebal['Starttime']).dt.date\n",
    "rebal = rebal.sort_values(by=['Bikeid', 'Startdate'])\n",
    "rebal = rebal[rebal.groupby(['Bikeid'])['Bikeid'].transform('size') > 1]\n",
    "rebal = rebal.reset_index(drop=True)\n",
    "rebal['Rebal'] = rebal.apply(calcrebal, axis=1)\n",
    "\n",
    "fs = rebal[['Startdate', 'Bikeid', 'From station id']].copy()\n",
    "fs = fs[fs.groupby(['Bikeid'])['Bikeid'].transform('size') > 1]\n",
    "fs = fs.reset_index(drop=True)\n",
    "\n",
    "tos = rebal[['Startdate', 'Bikeid', 'To station id']].copy()\n",
    "tos = tos[tos.groupby(['Bikeid'])['Bikeid'].transform('size') > 1]\n",
    "tos = tos.reset_index(drop=True)\n",
    "\n",
    "rebalCNT_p = pd.pivot_table(rebal,index=['Startdate', 'From station id'], values=['Rebal'], aggfunc='sum')\n",
    "rebalCNT = rebalCNT_p.reset_index()\n",
    "rebalCNT.columns = ['Day', 'StationID', 'rebalCNT']\n",
    "\n",
    "fromCNT_p = pd.pivot_table(fs,index=['Startdate', 'From station id'], values=['From station id'],aggfunc=lambda x: len(x))\n",
    "fromCNT = fromCNT_p.reset_index()\n",
    "fromCNT.columns = ['Day', 'StationID', 'fromCNT']\n",
    "\n",
    "toCNT_p = pd.pivot_table(tos,index=['Startdate', 'To station id'], values=['To station id'],aggfunc=lambda x: len(x))\n",
    "toCNT = toCNT_p.reset_index()\n",
    "toCNT.columns = ['Day', 'StationID', 'toCNT']\n",
    "\n",
    "rebalCNT = rebalCNT.sort_values(by=['Day', 'StationID'])\n",
    "fromCNT = fromCNT.sort_values(by=['Day', 'StationID'])\n",
    "toCNT = toCNT.sort_values(by=['Day', 'StationID'])\n",
    "\n",
    "fromto = fromCNT.merge(toCNT, how='outer', on=['Day', 'StationID'])\n",
    "fromto = fromto.fillna(0)\n",
    "fromto = fromto.sort_values(by=['Day', 'StationID'])\n",
    "\n",
    "df_final_4 = pd.merge(fromto, rebalCNT, how='outer', on=['Day', 'StationID'])\n",
    "df_final_4 = df_final_4.fillna(0)\n",
    "df_final_4.drop('toCNT', axis=1, inplace=True)\n",
    "\n",
    "df_final_4['Month'] = pd.to_datetime(df_final_4['Day']).dt.month\n",
    "df_final_4.drop('Day', axis=1, inplace=True)\n",
    "\n",
    "df_april = df_final_4.loc[df_final_4['Month'] == 4]\n",
    "df_may = df_final_4.loc[df_final_4['Month'] == 5]\n",
    "df_june = df_final_4.loc[df_final_4['Month'] == 6]\n",
    "\n",
    "df_april = df_april.groupby([\"StationID\", \"Month\"]).sum().reset_index()\n",
    "df_april.columns = ['StationID', 'Month', 'fromCNT4', 'rebalCNT4']\n",
    "df_april.drop('Month', axis=1, inplace=True)\n",
    "df_may = df_may.groupby([\"StationID\", \"Month\"]).sum().reset_index()\n",
    "df_may.columns = ['StationID', 'Month', 'fromCNT5', 'rebalCNT5']\n",
    "df_may.drop('Month', axis=1, inplace=True)\n",
    "df_june = df_june.groupby([\"StationID\", \"Month\"]).sum().reset_index()\n",
    "df_june.columns = ['StationID', 'Month', 'fromCNT6', 'rebalCNT6']\n",
    "df_june.drop('Month', axis=1, inplace=True)\n",
    "\n",
    "df_aprilmay = pd.merge(df_april, df_may, how='outer', on=['StationID'])\n",
    "df_aprilmay = df_aprilmay.fillna(0)\n",
    "df_aprilmay = df_aprilmay.sort_values(by=['StationID'])\n",
    "\n",
    "dfz =  pd.merge(df_aprilmay, df_june, how='outer', on=['StationID'])\n",
    "dfz = dfz.fillna(0)\n",
    "\n",
    "db_param = [(20,3),(30,3),(60,3)]\n",
    "dbscan1 = DBSCAN(eps=db_param[0][0], min_samples = db_param[0][1]).fit_predict(dfz)\n",
    "dbscan2 = DBSCAN(eps=db_param[1][0], min_samples = db_param[1][1]).fit_predict(dfz)\n",
    "dbscan3 = DBSCAN(eps=db_param[2][0], min_samples = db_param[2][1]).fit_predict(dfz)\n",
    "\n",
    "kmeans_param = [2, 3, 6]\n",
    "kmeans1 = KMeans(n_clusters=kmeans_param[0]).fit_predict(dfz)\n",
    "kmeans2 = KMeans(n_clusters=kmeans_param[1]).fit_predict(dfz)\n",
    "kmeans3 = KMeans(n_clusters=kmeans_param[2]).fit_predict(dfz)"
   ]
  },
  {
   "cell_type": "markdown",
   "metadata": {},
   "source": [
    "### Task 3.2"
   ]
  },
  {
   "cell_type": "code",
   "execution_count": 46,
   "metadata": {},
   "outputs": [
    {
     "data": {
      "image/png": "[encoded data removed]",
      "text/plain": [
       "<Figure size 1080x1080 with 6 Axes>"
      ]
     },
     "metadata": {
      "needs_background": "light"
     },
     "output_type": "display_data"
    }
   ],
   "source": [
    "dbresults = [dbscan1, dbscan2, dbscan3]\n",
    "kresults = [kmeans1,kmeans2,kmeans3]\n",
    "fig, axes = plt.subplots(nrows = 2, ncols = 3, figsize = (15,15))\n",
    "\n",
    "\n",
    "for index, val in enumerate(dbresults):\n",
    "    u, count = np.unique(val, return_counts=True)\n",
    "    count_sort_ind = np.argsort(-count)\n",
    "    xs = (u[count_sort_ind])\n",
    "    ys = (count[count_sort_ind])\n",
    "    axes[0,index].bar(xs,ys)\n",
    "    axes[0,index].set_title(f'DBSCAN | Epsilon = {db_param[index][0]}, Min Samples = {db_params[index][1]}')\n",
    "\n",
    "\n",
    "for index, val in enumerate(kresults):\n",
    "    u, count = np.unique(val, return_counts=True)\n",
    "    count_sort_ind = np.argsort(-u)\n",
    "    xs = (u[count_sort_ind])\n",
    "    ys = (count[count_sort_ind])\n",
    "    axes[1,index].bar(xs,ys)\n",
    "    axes[1,index].set_title(f'KMeans | K = {kmeans_param[index]}')\n",
    "    \n",
    "plt.show()"
   ]
  },
  {
   "cell_type": "markdown",
   "metadata": {},
   "source": [
    "### Task 3.3"
   ]
  },
  {
   "cell_type": "code",
   "execution_count": 47,
   "metadata": {
    "collapsed": true
   },
   "outputs": [
    {
     "data": {
      "image/png": "[encoded data removed]",
      "text/plain": [
       "<Figure size 1152x576 with 1 Axes>"
      ]
     },
     "metadata": {
      "needs_background": "light"
     },
     "output_type": "display_data"
    }
   ],
   "source": [
    "\n",
    "distortions = []\n",
    "K = range(1,15)\n",
    "for k in K:\n",
    "    kmeanModel = KMeans(n_clusters=k)\n",
    "    kmeanModel.fit(dfz)\n",
    "    distortions.append(kmeanModel.inertia_)\n",
    "\n",
    "\n",
    "plt.figure(figsize=(16,8))\n",
    "plt.plot(K, distortions, 'bx-')\n",
    "plt.ylabel('Distortion')\n",
    "plt.title('The Elbow Method showing the optimal k')\n",
    "plt.show()\n"
   ]
  },
  {
   "cell_type": "markdown",
   "metadata": {},
   "source": [
    "The Optimal K value should be 3 given the visualization in the elbow method as K is where the trend line plateaus which indicates the maximum minization for distortion given each K value. Increasing the K value would not return better results.\n",
    "\n",
    "While DBSCAN diminishes the effects of outliers, the context of this issue calls for the consideration of outliers to perform clustering analysis. Additionally, there is a large amount of noise in the visualization for DBSCAN given the parameters, which would indicate that a significant portion of the data was not considered. This would indicate that the results are not necessarily accurate and applicable to the scenario. Therefore, the K means is more preferable to the DBSCAN given the results."
   ]
  }
 ],
 "metadata": {
  "anaconda-cloud": {},
  "kernelspec": {
   "display_name": "Python 3 (ipykernel)",
   "language": "python",
   "name": "python3"
  },
  "language_info": {
   "codemirror_mode": {
    "name": "ipython",
    "version": 3
   },
   "file_extension": ".py",
   "mimetype": "text/x-python",
   "name": "python",
   "nbconvert_exporter": "python",
   "pygments_lexer": "ipython3",
   "version": "3.10.0"
  }
 },
 "nbformat": 4,
 "nbformat_minor": 2
}
